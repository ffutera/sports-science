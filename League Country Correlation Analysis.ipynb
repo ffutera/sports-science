{
 "cells": [
  {
   "cell_type": "markdown",
   "metadata": {},
   "source": [
    "# Preparation"
   ]
  },
  {
   "cell_type": "code",
   "execution_count": 3,
   "metadata": {},
   "outputs": [],
   "source": [
    "import pandas as pd\n",
    "import seaborn as sns\n",
    "import matplotlib.pyplot as plt\n",
    "import os\n",
    "import json"
   ]
  },
  {
   "cell_type": "code",
   "execution_count": 6,
   "metadata": {},
   "outputs": [
    {
     "data": {
      "text/html": [
       "<div>\n",
       "<style scoped>\n",
       "    .dataframe tbody tr th:only-of-type {\n",
       "        vertical-align: middle;\n",
       "    }\n",
       "\n",
       "    .dataframe tbody tr th {\n",
       "        vertical-align: top;\n",
       "    }\n",
       "\n",
       "    .dataframe thead th {\n",
       "        text-align: right;\n",
       "    }\n",
       "</style>\n",
       "<table border=\"1\" class=\"dataframe\">\n",
       "  <thead>\n",
       "    <tr style=\"text-align: right;\">\n",
       "      <th></th>\n",
       "      <th>name</th>\n",
       "      <th>age</th>\n",
       "      <th>nationality</th>\n",
       "      <th>height</th>\n",
       "      <th>weight</th>\n",
       "      <th>team</th>\n",
       "      <th>position</th>\n",
       "      <th>league</th>\n",
       "      <th>year</th>\n",
       "      <th>games</th>\n",
       "      <th>...</th>\n",
       "      <th>PPA</th>\n",
       "      <th>CrsPA</th>\n",
       "      <th>Prog</th>\n",
       "      <th>Tkl</th>\n",
       "      <th>TklW</th>\n",
       "      <th>Past</th>\n",
       "      <th>Press</th>\n",
       "      <th>Succ</th>\n",
       "      <th>Blocks</th>\n",
       "      <th>Int</th>\n",
       "    </tr>\n",
       "  </thead>\n",
       "  <tbody>\n",
       "    <tr>\n",
       "      <th>0</th>\n",
       "      <td>Lukasz Piszczek</td>\n",
       "      <td>32</td>\n",
       "      <td>Poland</td>\n",
       "      <td>184.0</td>\n",
       "      <td>79.0</td>\n",
       "      <td>Borussia Dortmund</td>\n",
       "      <td>DF</td>\n",
       "      <td>Bundesliga</td>\n",
       "      <td>2017</td>\n",
       "      <td>24.0</td>\n",
       "      <td>...</td>\n",
       "      <td>27</td>\n",
       "      <td>12</td>\n",
       "      <td>119</td>\n",
       "      <td>42</td>\n",
       "      <td>24</td>\n",
       "      <td>26</td>\n",
       "      <td>308</td>\n",
       "      <td>99</td>\n",
       "      <td>45</td>\n",
       "      <td>29</td>\n",
       "    </tr>\n",
       "    <tr>\n",
       "      <th>1</th>\n",
       "      <td>Sven Bender</td>\n",
       "      <td>28</td>\n",
       "      <td>Germany</td>\n",
       "      <td>186.0</td>\n",
       "      <td>80.0</td>\n",
       "      <td>Bayer Leverkusen</td>\n",
       "      <td>DF</td>\n",
       "      <td>Bundesliga</td>\n",
       "      <td>2017</td>\n",
       "      <td>29.0</td>\n",
       "      <td>...</td>\n",
       "      <td>3</td>\n",
       "      <td>0</td>\n",
       "      <td>89</td>\n",
       "      <td>43</td>\n",
       "      <td>30</td>\n",
       "      <td>18</td>\n",
       "      <td>263</td>\n",
       "      <td>102</td>\n",
       "      <td>64</td>\n",
       "      <td>27</td>\n",
       "    </tr>\n",
       "    <tr>\n",
       "      <th>2</th>\n",
       "      <td>Lars Bender</td>\n",
       "      <td>28</td>\n",
       "      <td>Germany</td>\n",
       "      <td>185.0</td>\n",
       "      <td>81.0</td>\n",
       "      <td>Bayer Leverkusen</td>\n",
       "      <td>DF</td>\n",
       "      <td>Bundesliga</td>\n",
       "      <td>2017</td>\n",
       "      <td>21.0</td>\n",
       "      <td>...</td>\n",
       "      <td>19</td>\n",
       "      <td>6</td>\n",
       "      <td>103</td>\n",
       "      <td>57</td>\n",
       "      <td>31</td>\n",
       "      <td>29</td>\n",
       "      <td>371</td>\n",
       "      <td>102</td>\n",
       "      <td>37</td>\n",
       "      <td>15</td>\n",
       "    </tr>\n",
       "    <tr>\n",
       "      <th>3</th>\n",
       "      <td>Aaron Hunt</td>\n",
       "      <td>31</td>\n",
       "      <td>Germany</td>\n",
       "      <td>183.0</td>\n",
       "      <td>73.0</td>\n",
       "      <td>Hamburger SV</td>\n",
       "      <td>MF</td>\n",
       "      <td>Bundesliga</td>\n",
       "      <td>2017</td>\n",
       "      <td>29.0</td>\n",
       "      <td>...</td>\n",
       "      <td>31</td>\n",
       "      <td>5</td>\n",
       "      <td>97</td>\n",
       "      <td>30</td>\n",
       "      <td>22</td>\n",
       "      <td>32</td>\n",
       "      <td>484</td>\n",
       "      <td>135</td>\n",
       "      <td>30</td>\n",
       "      <td>14</td>\n",
       "    </tr>\n",
       "    <tr>\n",
       "      <th>4</th>\n",
       "      <td>Marcel Heller</td>\n",
       "      <td>31</td>\n",
       "      <td>Germany</td>\n",
       "      <td>175.0</td>\n",
       "      <td>70.0</td>\n",
       "      <td>Augsburg</td>\n",
       "      <td>FW</td>\n",
       "      <td>Bundesliga</td>\n",
       "      <td>2017</td>\n",
       "      <td>24.0</td>\n",
       "      <td>...</td>\n",
       "      <td>15</td>\n",
       "      <td>9</td>\n",
       "      <td>23</td>\n",
       "      <td>33</td>\n",
       "      <td>24</td>\n",
       "      <td>25</td>\n",
       "      <td>291</td>\n",
       "      <td>62</td>\n",
       "      <td>18</td>\n",
       "      <td>10</td>\n",
       "    </tr>\n",
       "    <tr>\n",
       "      <th>...</th>\n",
       "      <td>...</td>\n",
       "      <td>...</td>\n",
       "      <td>...</td>\n",
       "      <td>...</td>\n",
       "      <td>...</td>\n",
       "      <td>...</td>\n",
       "      <td>...</td>\n",
       "      <td>...</td>\n",
       "      <td>...</td>\n",
       "      <td>...</td>\n",
       "      <td>...</td>\n",
       "      <td>...</td>\n",
       "      <td>...</td>\n",
       "      <td>...</td>\n",
       "      <td>...</td>\n",
       "      <td>...</td>\n",
       "      <td>...</td>\n",
       "      <td>...</td>\n",
       "      <td>...</td>\n",
       "      <td>...</td>\n",
       "      <td>...</td>\n",
       "    </tr>\n",
       "    <tr>\n",
       "      <th>6260</th>\n",
       "      <td>Giovani Lo Celso</td>\n",
       "      <td>22</td>\n",
       "      <td>Argentina</td>\n",
       "      <td>177.0</td>\n",
       "      <td>68.0</td>\n",
       "      <td>Real Betis</td>\n",
       "      <td>MF</td>\n",
       "      <td>La Liga</td>\n",
       "      <td>2018</td>\n",
       "      <td>32.0</td>\n",
       "      <td>...</td>\n",
       "      <td>47</td>\n",
       "      <td>2</td>\n",
       "      <td>124</td>\n",
       "      <td>55</td>\n",
       "      <td>46</td>\n",
       "      <td>32</td>\n",
       "      <td>500</td>\n",
       "      <td>137</td>\n",
       "      <td>36</td>\n",
       "      <td>10</td>\n",
       "    </tr>\n",
       "    <tr>\n",
       "      <th>6262</th>\n",
       "      <td>Jony</td>\n",
       "      <td>27</td>\n",
       "      <td>Spain</td>\n",
       "      <td>179.0</td>\n",
       "      <td>76.0</td>\n",
       "      <td>Alaves</td>\n",
       "      <td>MF</td>\n",
       "      <td>La Liga</td>\n",
       "      <td>2018</td>\n",
       "      <td>36.0</td>\n",
       "      <td>...</td>\n",
       "      <td>60</td>\n",
       "      <td>35</td>\n",
       "      <td>85</td>\n",
       "      <td>27</td>\n",
       "      <td>12</td>\n",
       "      <td>39</td>\n",
       "      <td>491</td>\n",
       "      <td>98</td>\n",
       "      <td>42</td>\n",
       "      <td>24</td>\n",
       "    </tr>\n",
       "    <tr>\n",
       "      <th>6263</th>\n",
       "      <td>Marc Cucurella</td>\n",
       "      <td>20</td>\n",
       "      <td>Spain</td>\n",
       "      <td>172.0</td>\n",
       "      <td>66.0</td>\n",
       "      <td>Eibar</td>\n",
       "      <td>MF</td>\n",
       "      <td>La Liga</td>\n",
       "      <td>2018</td>\n",
       "      <td>31.0</td>\n",
       "      <td>...</td>\n",
       "      <td>29</td>\n",
       "      <td>14</td>\n",
       "      <td>68</td>\n",
       "      <td>44</td>\n",
       "      <td>39</td>\n",
       "      <td>16</td>\n",
       "      <td>689</td>\n",
       "      <td>223</td>\n",
       "      <td>45</td>\n",
       "      <td>15</td>\n",
       "    </tr>\n",
       "    <tr>\n",
       "      <th>6264</th>\n",
       "      <td>Stanislav Lobotka</td>\n",
       "      <td>24</td>\n",
       "      <td>Slovakia</td>\n",
       "      <td>170.0</td>\n",
       "      <td>68.0</td>\n",
       "      <td>Celta Vigo</td>\n",
       "      <td>MF</td>\n",
       "      <td>La Liga</td>\n",
       "      <td>2018</td>\n",
       "      <td>31.0</td>\n",
       "      <td>...</td>\n",
       "      <td>12</td>\n",
       "      <td>1</td>\n",
       "      <td>106</td>\n",
       "      <td>42</td>\n",
       "      <td>34</td>\n",
       "      <td>35</td>\n",
       "      <td>670</td>\n",
       "      <td>151</td>\n",
       "      <td>23</td>\n",
       "      <td>26</td>\n",
       "    </tr>\n",
       "    <tr>\n",
       "      <th>6265</th>\n",
       "      <td>Daniele Verde</td>\n",
       "      <td>22</td>\n",
       "      <td>Italy</td>\n",
       "      <td>168.0</td>\n",
       "      <td>64.0</td>\n",
       "      <td>Real Valladolid</td>\n",
       "      <td>FW</td>\n",
       "      <td>La Liga</td>\n",
       "      <td>2018</td>\n",
       "      <td>22.0</td>\n",
       "      <td>...</td>\n",
       "      <td>12</td>\n",
       "      <td>3</td>\n",
       "      <td>22</td>\n",
       "      <td>2</td>\n",
       "      <td>1</td>\n",
       "      <td>11</td>\n",
       "      <td>133</td>\n",
       "      <td>30</td>\n",
       "      <td>7</td>\n",
       "      <td>9</td>\n",
       "    </tr>\n",
       "  </tbody>\n",
       "</table>\n",
       "<p>5892 rows × 36 columns</p>\n",
       "</div>"
      ],
      "text/plain": [
       "                   name  age nationality  height  weight               team  \\\n",
       "0       Lukasz Piszczek   32      Poland   184.0    79.0  Borussia Dortmund   \n",
       "1           Sven Bender   28     Germany   186.0    80.0   Bayer Leverkusen   \n",
       "2           Lars Bender   28     Germany   185.0    81.0   Bayer Leverkusen   \n",
       "3            Aaron Hunt   31     Germany   183.0    73.0       Hamburger SV   \n",
       "4         Marcel Heller   31     Germany   175.0    70.0           Augsburg   \n",
       "...                 ...  ...         ...     ...     ...                ...   \n",
       "6260   Giovani Lo Celso   22   Argentina   177.0    68.0         Real Betis   \n",
       "6262               Jony   27       Spain   179.0    76.0             Alaves   \n",
       "6263     Marc Cucurella   20       Spain   172.0    66.0              Eibar   \n",
       "6264  Stanislav Lobotka   24    Slovakia   170.0    68.0         Celta Vigo   \n",
       "6265      Daniele Verde   22       Italy   168.0    64.0    Real Valladolid   \n",
       "\n",
       "     position      league  year  games  ...  PPA  CrsPA  Prog  Tkl  TklW  \\\n",
       "0          DF  Bundesliga  2017   24.0  ...   27     12   119   42    24   \n",
       "1          DF  Bundesliga  2017   29.0  ...    3      0    89   43    30   \n",
       "2          DF  Bundesliga  2017   21.0  ...   19      6   103   57    31   \n",
       "3          MF  Bundesliga  2017   29.0  ...   31      5    97   30    22   \n",
       "4          FW  Bundesliga  2017   24.0  ...   15      9    23   33    24   \n",
       "...       ...         ...   ...    ...  ...  ...    ...   ...  ...   ...   \n",
       "6260       MF     La Liga  2018   32.0  ...   47      2   124   55    46   \n",
       "6262       MF     La Liga  2018   36.0  ...   60     35    85   27    12   \n",
       "6263       MF     La Liga  2018   31.0  ...   29     14    68   44    39   \n",
       "6264       MF     La Liga  2018   31.0  ...   12      1   106   42    34   \n",
       "6265       FW     La Liga  2018   22.0  ...   12      3    22    2     1   \n",
       "\n",
       "      Past  Press  Succ  Blocks  Int  \n",
       "0       26    308    99      45   29  \n",
       "1       18    263   102      64   27  \n",
       "2       29    371   102      37   15  \n",
       "3       32    484   135      30   14  \n",
       "4       25    291    62      18   10  \n",
       "...    ...    ...   ...     ...  ...  \n",
       "6260    32    500   137      36   10  \n",
       "6262    39    491    98      42   24  \n",
       "6263    16    689   223      45   15  \n",
       "6264    35    670   151      23   26  \n",
       "6265    11    133    30       7    9  \n",
       "\n",
       "[5892 rows x 36 columns]"
      ]
     },
     "execution_count": 6,
     "metadata": {},
     "output_type": "execute_result"
    }
   ],
   "source": [
    "# load data\n",
    "league_data_dir = os.getcwd() + '/data/leaguedata'\n",
    "all_data = []\n",
    "for filename in os.listdir(league_data_dir):\n",
    "    if not filename.startswith(\"20\"):\n",
    "        continue\n",
    "    league = \"Premier League\" if \"PremierLeague\" in filename else \"La Liga\" if \"LaLiga\" in filename else \"Bundesliga\" if \"Bundesliga\" in filename else \"SerieA\" if \"SerieA\" in filename else \"Ligue1\"\n",
    "    year = 2017 if \"2017\" in filename else 2018 if \"2018\" in filename else 2019 if \"2019\" in filename else \"2020\"\n",
    "    with open(os.path.join(league_data_dir, filename)) as f:\n",
    "        for line in f:\n",
    "            data = json.loads(line)\n",
    "            merged_dict = {\n",
    "                'name': data['name'] if 'name' in data else None, \n",
    "                'age': data['age'] if 'age' in data else None, \n",
    "                'nationality': data['nationality'] if 'nationality' in data else None,\n",
    "                'height': data['height'] if 'height' in data else None,\n",
    "                'weight': data['weight'] if 'weight' in data else None,\n",
    "                'team': data['team'] if 'team' in data else None,\n",
    "                'position': data['position'] if 'position' in data else None,\n",
    "                'league': league,\n",
    "                'year': year\n",
    "            }\n",
    "            \n",
    "            merged_dict.update(data['general_stats'] if 'general_stats' in data else {})\n",
    "            merged_dict.update(data['offensive_stats'] if 'offensive_stats' in data else {})\n",
    "            merged_dict.update(data['passing_stats'] if 'passing_stats' in data else {})\n",
    "            merged_dict.update(data['defensive_stats'] if 'defensive_stats' in data else {})\n",
    "            all_data.append(merged_dict)\n",
    "player_data = pd.DataFrame(all_data)\n",
    "\n",
    "# drop rows with NaN (375 out of 6267)\n",
    "player_data = player_data.dropna()\n",
    "player_data"
   ]
  },
  {
   "cell_type": "markdown",
   "metadata": {},
   "source": [
    "# Boxplot Analysis"
   ]
  },
  {
   "cell_type": "code",
   "execution_count": 7,
   "metadata": {},
   "outputs": [],
   "source": [
    "leagues = list(player_data.league.unique())\n",
    "height_data = [list(player_data[player_data['league'] == l].height) for l in leagues]"
   ]
  },
  {
   "cell_type": "code",
   "execution_count": 8,
   "metadata": {},
   "outputs": [
    {
     "data": {
      "image/png": "[encoded data removed]",
      "text/plain": [
       "<Figure size 432x288 with 1 Axes>"
      ]
     },
     "metadata": {
      "needs_background": "light"
     },
     "output_type": "display_data"
    }
   ],
   "source": [
    "sns.boxplot(data = player_data, x = 'league', y='height')\n",
    "plt.title('Distribution of player heights in major leagues');"
   ]
  },
  {
   "cell_type": "code",
   "execution_count": 9,
   "metadata": {},
   "outputs": [
    {
     "data": {
      "image/png": "[encoded data removed]",
      "text/plain": [
       "<Figure size 432x288 with 1 Axes>"
      ]
     },
     "metadata": {
      "needs_background": "light"
     },
     "output_type": "display_data"
    }
   ],
   "source": [
    "sns.boxplot(data = player_data, x = 'league', y='weight')\n",
    "plt.title('Distribution of player weights in major leagues');"
   ]
  },
  {
   "cell_type": "code",
   "execution_count": 10,
   "metadata": {},
   "outputs": [
    {
     "data": {
      "image/png": "[encoded data removed]",
      "text/plain": [
       "<Figure size 432x288 with 1 Axes>"
      ]
     },
     "metadata": {
      "needs_background": "light"
     },
     "output_type": "display_data"
    }
   ],
   "source": [
    "sns.boxplot(data = player_data, x = 'league', y='age')\n",
    "plt.title('Distribution of player ages in major leagues');"
   ]
  },
  {
   "cell_type": "code",
   "execution_count": 11,
   "metadata": {},
   "outputs": [],
   "source": [
    "# analyse by country\n",
    "nationalities = ['Spain', 'France', 'Germany', 'Italy', 'England']\n",
    "country_specific_player_data = player_data[player_data['nationality'].isin(nationalities)]"
   ]
  },
  {
   "cell_type": "code",
   "execution_count": 12,
   "metadata": {},
   "outputs": [
    {
     "data": {
      "image/png": "[encoded data removed]",
      "text/plain": [
       "<Figure size 432x288 with 1 Axes>"
      ]
     },
     "metadata": {
      "needs_background": "light"
     },
     "output_type": "display_data"
    },
    {
     "data": {
      "image/png": "[encoded data removed]",
      "text/plain": [
       "<Figure size 432x288 with 1 Axes>"
      ]
     },
     "metadata": {
      "needs_background": "light"
     },
     "output_type": "display_data"
    }
   ],
   "source": [
    "sns.boxplot(data = country_specific_player_data, x = 'nationality', y='height')\n",
    "plt.title('Distribution of player heights by nationality');\n",
    "plt.show()\n",
    "\n",
    "# average height in country\n",
    "# from https://worldpopulationreview.com/country-rankings/average-height-by-country\n",
    "avg_heights = pd.DataFrame({'nationality': nationalities, 'height': [176.11, 178.60,180.28,174.42,178.21]})\n",
    "sns.barplot(x = 'nationality', y='height', data = avg_heights, order = ['Germany', 'France', 'Italy', 'Spain','England'])\n",
    "plt.title('average male height by country');\n",
    "plt.ylim((150,190));\n"
   ]
  },
  {
   "cell_type": "code",
   "execution_count": 13,
   "metadata": {},
   "outputs": [
    {
     "data": {
      "image/png": "[encoded data removed]",
      "text/plain": [
       "<Figure size 432x288 with 1 Axes>"
      ]
     },
     "metadata": {
      "needs_background": "light"
     },
     "output_type": "display_data"
    },
    {
     "data": {
      "image/png": "[encoded data removed]",
      "text/plain": [
       "<Figure size 432x288 with 1 Axes>"
      ]
     },
     "metadata": {
      "needs_background": "light"
     },
     "output_type": "display_data"
    }
   ],
   "source": [
    "sns.boxplot(data = country_specific_player_data, x = 'nationality', y='weight')\n",
    "plt.title('Distribution of player weights by nationality');\n",
    "plt.show()\n",
    "\n",
    "# average weight in country\n",
    "# from https://w3ask.com/average-weight-men-world/\n",
    "avg_weights = pd.DataFrame({'nationality': nationalities, 'weight': [82.3, 77.2,82.5,81,84.1]})\n",
    "sns.barplot(x = 'nationality', y='weight', data = avg_weights, order = ['Germany', 'France', 'Italy', 'Spain','England'])\n",
    "plt.title('average male weight by country');\n",
    "plt.ylim((60,90));"
   ]
  },
  {
   "cell_type": "code",
   "execution_count": 14,
   "metadata": {},
   "outputs": [
    {
     "data": {
      "image/png": "[encoded data removed]",
      "text/plain": [
       "<Figure size 432x288 with 1 Axes>"
      ]
     },
     "metadata": {
      "needs_background": "light"
     },
     "output_type": "display_data"
    },
    {
     "data": {
      "image/png": "[encoded data removed]",
      "text/plain": [
       "<Figure size 432x288 with 1 Axes>"
      ]
     },
     "metadata": {
      "needs_background": "light"
     },
     "output_type": "display_data"
    }
   ],
   "source": [
    "sns.boxplot(data = country_specific_player_data, x = 'nationality', y='age')\n",
    "plt.title('Distribution of player age by nationality');\n",
    "plt.show()\n",
    "\n",
    "# from https://worldpopulationreview.com/country-rankings/median-age\n",
    "avg_ages = pd.DataFrame({'nationality': nationalities, 'age': [42.7, 40, 46.5, 45.4, 39.6]})\n",
    "sns.barplot(x = 'nationality', y='age', data = avg_ages, order = ['Germany', 'France', 'Italy', 'Spain','England'])\n",
    "plt.title('median male age by country');\n"
   ]
  },
  {
   "cell_type": "code",
   "execution_count": null,
   "metadata": {},
   "outputs": [],
   "source": []
  }
 ],
 "metadata": {
  "kernelspec": {
   "display_name": "Python 3",
   "language": "python",
   "name": "python3"
  },
  "language_info": {
   "codemirror_mode": {
    "name": "ipython",
    "version": 3
   },
   "file_extension": ".py",
   "mimetype": "text/x-python",
   "name": "python",
   "nbconvert_exporter": "python",
   "pygments_lexer": "ipython3",
   "version": "3.8.10"
  }
 },
 "nbformat": 4,
 "nbformat_minor": 4
}
