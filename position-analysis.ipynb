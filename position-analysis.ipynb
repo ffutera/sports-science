{
 "cells": [
  {
   "cell_type": "code",
   "execution_count": 1,
   "id": "4dbb4e38",
   "metadata": {
    "_cell_guid": "b1076dfc-b9ad-4769-8c92-a6c4dae69d19",
    "_uuid": "8f2839f25d086af736a60e9eeb907d3b93b6e0e5",
    "execution": {
     "iopub.execute_input": "2023-04-10T05:59:15.849459Z",
     "iopub.status.busy": "2023-04-10T05:59:15.849129Z",
     "iopub.status.idle": "2023-04-10T05:59:17.109460Z",
     "shell.execute_reply": "2023-04-10T05:59:17.107768Z"
    },
    "jupyter": {
     "source_hidden": true
    },
    "papermill": {
     "duration": 1.268518,
     "end_time": "2023-04-10T05:59:17.112303",
     "exception": false,
     "start_time": "2023-04-10T05:59:15.843785",
     "status": "completed"
    },
    "tags": []
   },
   "outputs": [],
   "source": [
    "# This Python 3 environment comes with many helpful analytics libraries installed\n",
    "# It is defined by the kaggle/python Docker image: https://github.com/kaggle/docker-python\n",
    "# For example, here's several helpful packages to load\n",
    "\n",
    "import numpy as np # linear algebra\n",
    "import pandas as pd # data processing, CSV file I/O (e.g. pd.read_csv)\n",
    "import matplotlib.pyplot as plt\n",
    "import seaborn as sns\n",
    "\n",
    "# Input data files are available in the read-only \"../input/\" directory\n",
    "# For example, running this (by clicking run or pressing Shift+Enter) will list all files under the input directory\n",
    "\n",
    "import os\n",
    "import json\n",
    "# for dirname, _, filenames in os.walk('/kaggle/input'):\n",
    "#     for filename in filenames:\n",
    "#         print(os.path.join(dirname, filename))\n",
    "\n",
    "# You can write up to 20GB to the current directory (/kaggle/working/) that gets preserved as output when you create a version using \"Save & Run All\" \n",
    "# You can also write temporary files to /kaggle/temp/, but they won't be saved outside of the current session"
   ]
  },
  {
   "cell_type": "markdown",
   "id": "704d2bc2",
   "metadata": {
    "papermill": {
     "duration": 0.002385,
     "end_time": "2023-04-10T05:59:17.117755",
     "exception": false,
     "start_time": "2023-04-10T05:59:17.115370",
     "status": "completed"
    },
    "tags": []
   },
   "source": [
    "# Load Data"
   ]
  },
  {
   "cell_type": "code",
   "execution_count": 2,
   "id": "bfbeb850",
   "metadata": {
    "execution": {
     "iopub.execute_input": "2023-04-10T05:59:17.125706Z",
     "iopub.status.busy": "2023-04-10T05:59:17.125363Z",
     "iopub.status.idle": "2023-04-10T05:59:17.604533Z",
     "shell.execute_reply": "2023-04-10T05:59:17.602785Z"
    },
    "jupyter": {
     "source_hidden": true
    },
    "papermill": {
     "duration": 0.48667,
     "end_time": "2023-04-10T05:59:17.607121",
     "exception": false,
     "start_time": "2023-04-10T05:59:17.120451",
     "status": "completed"
    },
    "tags": []
   },
   "outputs": [
    {
     "data": {
      "text/html": [
       "<div>\n",
       "<style scoped>\n",
       "    .dataframe tbody tr th:only-of-type {\n",
       "        vertical-align: middle;\n",
       "    }\n",
       "\n",
       "    .dataframe tbody tr th {\n",
       "        vertical-align: top;\n",
       "    }\n",
       "\n",
       "    .dataframe thead th {\n",
       "        text-align: right;\n",
       "    }\n",
       "</style>\n",
       "<table border=\"1\" class=\"dataframe\">\n",
       "  <thead>\n",
       "    <tr style=\"text-align: right;\">\n",
       "      <th></th>\n",
       "      <th>name</th>\n",
       "      <th>age</th>\n",
       "      <th>nationality</th>\n",
       "      <th>height</th>\n",
       "      <th>weight</th>\n",
       "      <th>team</th>\n",
       "      <th>position</th>\n",
       "      <th>league</th>\n",
       "      <th>year</th>\n",
       "      <th>games</th>\n",
       "      <th>...</th>\n",
       "      <th>PPA</th>\n",
       "      <th>CrsPA</th>\n",
       "      <th>Prog</th>\n",
       "      <th>Tkl</th>\n",
       "      <th>TklW</th>\n",
       "      <th>Past</th>\n",
       "      <th>Press</th>\n",
       "      <th>Succ</th>\n",
       "      <th>Blocks</th>\n",
       "      <th>Int</th>\n",
       "    </tr>\n",
       "  </thead>\n",
       "  <tbody>\n",
       "    <tr>\n",
       "      <th>0</th>\n",
       "      <td>Mario Mandzukic</td>\n",
       "      <td>32</td>\n",
       "      <td>Croatia</td>\n",
       "      <td>190.0</td>\n",
       "      <td>85.0</td>\n",
       "      <td>Juventus</td>\n",
       "      <td>FW</td>\n",
       "      <td>SerieA</td>\n",
       "      <td>2018</td>\n",
       "      <td>25.0</td>\n",
       "      <td>...</td>\n",
       "      <td>20.0</td>\n",
       "      <td>7.0</td>\n",
       "      <td>38.0</td>\n",
       "      <td>37.0</td>\n",
       "      <td>22.0</td>\n",
       "      <td>20.0</td>\n",
       "      <td>497.0</td>\n",
       "      <td>140.0</td>\n",
       "      <td>27.0</td>\n",
       "      <td>12.0</td>\n",
       "    </tr>\n",
       "  </tbody>\n",
       "</table>\n",
       "<p>1 rows × 36 columns</p>\n",
       "</div>"
      ],
      "text/plain": [
       "              name  age nationality  height  weight      team position  \\\n",
       "0  Mario Mandzukic   32     Croatia   190.0    85.0  Juventus       FW   \n",
       "\n",
       "   league  year  games  ...   PPA  CrsPA  Prog   Tkl  TklW  Past  Press  \\\n",
       "0  SerieA  2018   25.0  ...  20.0    7.0  38.0  37.0  22.0  20.0  497.0   \n",
       "\n",
       "    Succ  Blocks   Int  \n",
       "0  140.0    27.0  12.0  \n",
       "\n",
       "[1 rows x 36 columns]"
      ]
     },
     "execution_count": 2,
     "metadata": {},
     "output_type": "execute_result"
    }
   ],
   "source": [
    "def load_data():\n",
    "    league_data_dir = os.getcwd() + '/data/leaguedata'\n",
    "    all_data = []\n",
    "    for _, _, filenames in os.walk('/kaggle/input'):\n",
    "        for filename in filenames:\n",
    "            if not filename.startswith(\"20\"):\n",
    "                continue\n",
    "            league = \"Premier League\" if \"PremierLeague\" in filename else \"La Liga\" if \"LaLiga\" in filename else \"Bundesliga\" if \"Bundesliga\" in filename else \"SerieA\" if \"SerieA\" in filename else \"Ligue1\"\n",
    "            year = 2017 if \"2017\" in filename else 2018 if \"2018\" in filename else 2019 if \"2019\" in filename else \"2020\"\n",
    "            f = open(f'../input/top5legauesplayers-statsandphys/Football_Players/{filename}', 'r')\n",
    "            for line in f:\n",
    "                data = json.loads(line)\n",
    "                merged_dict = {\n",
    "                    'name': data['name'] if 'name' in data else None, \n",
    "                    'age': data['age'] if 'age' in data else None, \n",
    "                    'nationality': data['nationality'] if 'nationality' in data else None,\n",
    "                    'height': data['height'] if 'height' in data else None,\n",
    "                    'weight': data['weight'] if 'weight' in data else None,\n",
    "                    'team': data['team'] if 'team' in data else None,\n",
    "                    'position': data['position'] if 'position' in data else None,\n",
    "                    'league': league,\n",
    "                    'year': year\n",
    "                }\n",
    "                merged_dict.update(data['general_stats'] if 'general_stats' in data else {})\n",
    "                merged_dict.update(data['offensive_stats'] if 'offensive_stats' in data else {})\n",
    "                merged_dict.update(data['passing_stats'] if 'passing_stats' in data else {})\n",
    "                merged_dict.update(data['defensive_stats'] if 'defensive_stats' in data else {})\n",
    "                all_data.append(merged_dict)\n",
    "    player_data = pd.DataFrame(all_data)\n",
    "    # drop rows with NaN (375 out of 6267)\n",
    "    player_data = player_data.dropna()\n",
    "    return player_data\n",
    "\n",
    "player_data = load_data()\n",
    "player_data.head(1)"
   ]
  },
  {
   "cell_type": "markdown",
   "id": "a0f4a73e",
   "metadata": {
    "papermill": {
     "duration": 0.002607,
     "end_time": "2023-04-10T05:59:17.613006",
     "exception": false,
     "start_time": "2023-04-10T05:59:17.610399",
     "status": "completed"
    },
    "tags": []
   },
   "source": [
    "# Investigate physical attribute and player correlations\n",
    "There's 4 unique positions: FW, DF, MF, GK. However, some players play 2 positions. For analysis, if a player plays 2 positions, then their attributes get contributed to both positions"
   ]
  },
  {
   "cell_type": "code",
   "execution_count": 3,
   "id": "bc1d33bf",
   "metadata": {
    "execution": {
     "iopub.execute_input": "2023-04-10T05:59:17.620607Z",
     "iopub.status.busy": "2023-04-10T05:59:17.620270Z",
     "iopub.status.idle": "2023-04-10T05:59:17.631055Z",
     "shell.execute_reply": "2023-04-10T05:59:17.629545Z"
    },
    "papermill": {
     "duration": 0.017417,
     "end_time": "2023-04-10T05:59:17.633321",
     "exception": false,
     "start_time": "2023-04-10T05:59:17.615904",
     "status": "completed"
    },
    "tags": []
   },
   "outputs": [
    {
     "name": "stdout",
     "output_type": "stream",
     "text": [
      "FW\n",
      "DF\n",
      "MF\n",
      "GK\n",
      "DF,MF\n",
      "FW,MF\n",
      "MF,FW\n"
     ]
    }
   ],
   "source": [
    "# All available positions\n",
    "for position in player_data['position'].unique():\n",
    "    print(position)"
   ]
  },
  {
   "cell_type": "code",
   "execution_count": 4,
   "id": "450570a8",
   "metadata": {
    "execution": {
     "iopub.execute_input": "2023-04-10T05:59:17.640727Z",
     "iopub.status.busy": "2023-04-10T05:59:17.640381Z",
     "iopub.status.idle": "2023-04-10T05:59:17.960637Z",
     "shell.execute_reply": "2023-04-10T05:59:17.959071Z"
    },
    "papermill": {
     "duration": 0.327282,
     "end_time": "2023-04-10T05:59:17.963613",
     "exception": false,
     "start_time": "2023-04-10T05:59:17.636331",
     "status": "completed"
    },
    "tags": []
   },
   "outputs": [
    {
     "data": {
      "text/html": [
       "<div>\n",
       "<style scoped>\n",
       "    .dataframe tbody tr th:only-of-type {\n",
       "        vertical-align: middle;\n",
       "    }\n",
       "\n",
       "    .dataframe tbody tr th {\n",
       "        vertical-align: top;\n",
       "    }\n",
       "\n",
       "    .dataframe thead th {\n",
       "        text-align: right;\n",
       "    }\n",
       "</style>\n",
       "<table border=\"1\" class=\"dataframe\">\n",
       "  <thead>\n",
       "    <tr style=\"text-align: right;\">\n",
       "      <th></th>\n",
       "      <th>position</th>\n",
       "      <th>count</th>\n",
       "      <th>mean</th>\n",
       "      <th>std</th>\n",
       "      <th>min</th>\n",
       "      <th>25%</th>\n",
       "      <th>50%</th>\n",
       "      <th>75%</th>\n",
       "      <th>max</th>\n",
       "    </tr>\n",
       "  </thead>\n",
       "  <tbody>\n",
       "    <tr>\n",
       "      <th>0</th>\n",
       "      <td>FW</td>\n",
       "      <td>1477.0</td>\n",
       "      <td>181.241029</td>\n",
       "      <td>6.474161</td>\n",
       "      <td>162.0</td>\n",
       "      <td>177.0</td>\n",
       "      <td>181.0</td>\n",
       "      <td>186.0</td>\n",
       "      <td>203.0</td>\n",
       "    </tr>\n",
       "    <tr>\n",
       "      <th>1</th>\n",
       "      <td>DF</td>\n",
       "      <td>2082.0</td>\n",
       "      <td>183.408261</td>\n",
       "      <td>5.935784</td>\n",
       "      <td>165.0</td>\n",
       "      <td>180.0</td>\n",
       "      <td>184.0</td>\n",
       "      <td>188.0</td>\n",
       "      <td>199.0</td>\n",
       "    </tr>\n",
       "    <tr>\n",
       "      <th>2</th>\n",
       "      <td>MF</td>\n",
       "      <td>1949.0</td>\n",
       "      <td>180.360185</td>\n",
       "      <td>5.862173</td>\n",
       "      <td>163.0</td>\n",
       "      <td>176.0</td>\n",
       "      <td>180.0</td>\n",
       "      <td>185.0</td>\n",
       "      <td>200.0</td>\n",
       "    </tr>\n",
       "    <tr>\n",
       "      <th>3</th>\n",
       "      <td>GK</td>\n",
       "      <td>388.0</td>\n",
       "      <td>189.634021</td>\n",
       "      <td>4.669443</td>\n",
       "      <td>170.0</td>\n",
       "      <td>187.0</td>\n",
       "      <td>190.0</td>\n",
       "      <td>193.0</td>\n",
       "      <td>201.0</td>\n",
       "    </tr>\n",
       "  </tbody>\n",
       "</table>\n",
       "</div>"
      ],
      "text/plain": [
       "  position   count        mean       std    min    25%    50%    75%    max\n",
       "0       FW  1477.0  181.241029  6.474161  162.0  177.0  181.0  186.0  203.0\n",
       "1       DF  2082.0  183.408261  5.935784  165.0  180.0  184.0  188.0  199.0\n",
       "2       MF  1949.0  180.360185  5.862173  163.0  176.0  180.0  185.0  200.0\n",
       "3       GK   388.0  189.634021  4.669443  170.0  187.0  190.0  193.0  201.0"
      ]
     },
     "execution_count": 4,
     "metadata": {},
     "output_type": "execute_result"
    }
   ],
   "source": [
    "player_data = load_data()\n",
    "\n",
    "# Since some players play two positions, we will contribute their physical attributes to both positions\n",
    "player_data['position'] = player_data['position'].str.split(',')\n",
    "player_data_exploded = player_data.explode('position')\n",
    "\n",
    "height_weight_summary = pd.DataFrame(columns=['position', 'count', 'mean', 'std', 'min', '25%', '50%', '75%', 'max'])\n",
    "positions = ['FW', 'DF', 'MF', 'GK']\n",
    "for position in positions:\n",
    "    summary = player_data_exploded[player_data_exploded['position'].str.contains(position)]['height'].describe()\n",
    "    height_weight_summary = height_weight_summary.append({'position': position,\n",
    "                                        'count': summary['count'],\n",
    "                                        'mean': summary['mean'],\n",
    "                                        'std': summary['std'],\n",
    "                                        'min': summary['min'],\n",
    "                                        '25%': summary['25%'],\n",
    "                                        '50%': summary['50%'],\n",
    "                                        '75%': summary['75%'],\n",
    "                                        'max': summary['max']},\n",
    "                                       ignore_index=True)\n",
    "height_weight_summary"
   ]
  },
  {
   "cell_type": "code",
   "execution_count": 5,
   "id": "ace76c9f",
   "metadata": {
    "execution": {
     "iopub.execute_input": "2023-04-10T05:59:17.972793Z",
     "iopub.status.busy": "2023-04-10T05:59:17.972452Z",
     "iopub.status.idle": "2023-04-10T05:59:18.184389Z",
     "shell.execute_reply": "2023-04-10T05:59:18.183706Z"
    },
    "papermill": {
     "duration": 0.218722,
     "end_time": "2023-04-10T05:59:18.186142",
     "exception": false,
     "start_time": "2023-04-10T05:59:17.967420",
     "status": "completed"
    },
    "tags": []
   },
   "outputs": [
    {
     "data": {
      "image/png": "[encoded data removed]",
      "text/plain": [
       "<Figure size 640x480 with 1 Axes>"
      ]
     },
     "metadata": {},
     "output_type": "display_data"
    }
   ],
   "source": [
    "sns.boxplot(data = player_data_exploded, x = 'position', y='height')\n",
    "plt.title('Distribution of heights among different positions')\n",
    "plt.show()"
   ]
  },
  {
   "cell_type": "code",
   "execution_count": 6,
   "id": "fba9afca",
   "metadata": {
    "execution": {
     "iopub.execute_input": "2023-04-10T05:59:18.194865Z",
     "iopub.status.busy": "2023-04-10T05:59:18.194384Z",
     "iopub.status.idle": "2023-04-10T05:59:18.368808Z",
     "shell.execute_reply": "2023-04-10T05:59:18.367935Z"
    },
    "papermill": {
     "duration": 0.181442,
     "end_time": "2023-04-10T05:59:18.371173",
     "exception": false,
     "start_time": "2023-04-10T05:59:18.189731",
     "status": "completed"
    },
    "tags": []
   },
   "outputs": [
    {
     "data": {
      "image/png": "[encoded data removed]",
      "text/plain": [
       "<Figure size 640x480 with 1 Axes>"
      ]
     },
     "metadata": {},
     "output_type": "display_data"
    }
   ],
   "source": [
    "sns.boxplot(data = player_data_exploded, x = 'position', y='weight')\n",
    "plt.title('Distribution of weights among different positions')\n",
    "plt.show()"
   ]
  },
  {
   "cell_type": "code",
   "execution_count": null,
   "id": "b400771f",
   "metadata": {
    "papermill": {
     "duration": 0.004446,
     "end_time": "2023-04-10T05:59:18.381224",
     "exception": false,
     "start_time": "2023-04-10T05:59:18.376778",
     "status": "completed"
    },
    "tags": []
   },
   "outputs": [],
   "source": []
  }
 ],
 "metadata": {
  "kernelspec": {
   "display_name": "Python 3",
   "language": "python",
   "name": "python3"
  },
  "language_info": {
   "codemirror_mode": {
    "name": "ipython",
    "version": 3
   },
   "file_extension": ".py",
   "mimetype": "text/x-python",
   "name": "python",
   "nbconvert_exporter": "python",
   "pygments_lexer": "ipython3",
   "version": "3.7.12"
  },
  "papermill": {
   "default_parameters": {},
   "duration": 12.793773,
   "end_time": "2023-04-10T05:59:19.112471",
   "environment_variables": {},
   "exception": null,
   "input_path": "__notebook__.ipynb",
   "output_path": "__notebook__.ipynb",
   "parameters": {},
   "start_time": "2023-04-10T05:59:06.318698",
   "version": "2.4.0"
  }
 },
 "nbformat": 4,
 "nbformat_minor": 5
}
